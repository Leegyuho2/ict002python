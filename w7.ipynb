{
  "nbformat": 4,
  "nbformat_minor": 0,
  "metadata": {
    "colab": {
      "provenance": [],
      "authorship_tag": "ABX9TyOvQzmNUrZM+Q0wqeZgOSEY",
      "include_colab_link": true
    },
    "kernelspec": {
      "name": "python3",
      "display_name": "Python 3"
    },
    "language_info": {
      "name": "python"
    }
  },
  "cells": [
    {
      "cell_type": "markdown",
      "metadata": {
        "id": "view-in-github",
        "colab_type": "text"
      },
      "source": [
        "<a href=\"https://colab.research.google.com/github/Leegyuho2/ict002python/blob/main/w7.ipynb\" target=\"_parent\"><img src=\"https://colab.research.google.com/assets/colab-badge.svg\" alt=\"Open In Colab\"/></a>"
      ]
    },
    {
      "cell_type": "code",
      "source": [
        "nlist=[11,23,5,7,15,9,8]\n",
        "nlist.sort(reverse=True)\n",
        "\n",
        "print(nlist)"
      ],
      "metadata": {
        "id": "VB2KwLaR48lA",
        "colab": {
          "base_uri": "https://localhost:8080/"
        },
        "outputId": "5ea9c77d-de11-46ae-c2df-58429be47b53"
      },
      "execution_count": 5,
      "outputs": [
        {
          "output_type": "stream",
          "name": "stdout",
          "text": [
            "[23, 15, 11, 9, 8, 7, 5]\n"
          ]
        }
      ]
    },
    {
      "cell_type": "code",
      "source": [
        "num = (1,3,3,5,7,7,3,3,)\n",
        "num.count(3)"
      ],
      "metadata": {
        "colab": {
          "base_uri": "https://localhost:8080/"
        },
        "id": "lKc017LsA2Ty",
        "outputId": "060beebe-fe32-4f1c-edb0-06b7840e6394"
      },
      "execution_count": 12,
      "outputs": [
        {
          "output_type": "execute_result",
          "data": {
            "text/plain": [
              "4"
            ]
          },
          "metadata": {},
          "execution_count": 12
        }
      ]
    },
    {
      "cell_type": "code",
      "source": [
        "num = (11,22,33,44,55)\n",
        "for i in range(len(num)):\n",
        "  print(num[i],end = ' ')\n"
      ],
      "metadata": {
        "colab": {
          "base_uri": "https://localhost:8080/"
        },
        "id": "6LKtlX12BsVK",
        "outputId": "99082414-98f6-4218-a704-dcfb97964f00"
      },
      "execution_count": 16,
      "outputs": [
        {
          "output_type": "stream",
          "name": "stdout",
          "text": [
            "11 22 33 44 55 "
          ]
        }
      ]
    },
    {
      "cell_type": "code",
      "source": [
        "numlist =(20,30,15,31,23)\n",
        "\n",
        "\n",
        "num(reverse=False)\n",
        "for i in range(len(num)):\n",
        "  print(num[i])\n",
        "print(\"합계:\",num[0]+num[1]+num[2]+num[3]+num[4])\n",
        "\n",
        "\n"
      ],
      "metadata": {
        "colab": {
          "base_uri": "https://localhost:8080/",
          "height": 240
        },
        "id": "tliFhr8uCNO6",
        "outputId": "c4cb12b0-92d5-41b8-a15d-73faf24f1551"
      },
      "execution_count": 49,
      "outputs": [
        {
          "output_type": "error",
          "ename": "AttributeError",
          "evalue": "ignored",
          "traceback": [
            "\u001b[0;31m---------------------------------------------------------------------------\u001b[0m",
            "\u001b[0;31mAttributeError\u001b[0m                            Traceback (most recent call last)",
            "\u001b[0;32m<ipython-input-49-a99c7fb2afc9>\u001b[0m in \u001b[0;36m<module>\u001b[0;34m\u001b[0m\n\u001b[1;32m      2\u001b[0m \u001b[0;34m\u001b[0m\u001b[0m\n\u001b[1;32m      3\u001b[0m \u001b[0;34m\u001b[0m\u001b[0m\n\u001b[0;32m----> 4\u001b[0;31m \u001b[0mnumlist\u001b[0m\u001b[0;34m.\u001b[0m\u001b[0msorted\u001b[0m\u001b[0;34m(\u001b[0m\u001b[0mreverse\u001b[0m\u001b[0;34m=\u001b[0m\u001b[0;32mFalse\u001b[0m\u001b[0;34m)\u001b[0m\u001b[0;34m\u001b[0m\u001b[0;34m\u001b[0m\u001b[0m\n\u001b[0m\u001b[1;32m      5\u001b[0m \u001b[0;32mfor\u001b[0m \u001b[0mi\u001b[0m \u001b[0;32min\u001b[0m \u001b[0mrange\u001b[0m\u001b[0;34m(\u001b[0m\u001b[0mlen\u001b[0m\u001b[0;34m(\u001b[0m\u001b[0mnum\u001b[0m\u001b[0;34m)\u001b[0m\u001b[0;34m)\u001b[0m\u001b[0;34m:\u001b[0m\u001b[0;34m\u001b[0m\u001b[0;34m\u001b[0m\u001b[0m\n\u001b[1;32m      6\u001b[0m   \u001b[0mprint\u001b[0m\u001b[0;34m(\u001b[0m\u001b[0mnum\u001b[0m\u001b[0;34m[\u001b[0m\u001b[0mi\u001b[0m\u001b[0;34m]\u001b[0m\u001b[0;34m)\u001b[0m\u001b[0;34m\u001b[0m\u001b[0;34m\u001b[0m\u001b[0m\n",
            "\u001b[0;31mAttributeError\u001b[0m: 'tuple' object has no attribute 'sorted'"
          ]
        }
      ]
    },
    {
      "cell_type": "code",
      "source": [
        "numList = [[1,2,3],[2,3,5],[3,5,6]]\n",
        "for i,j,e in numList:\n",
        "  print(i,j,e)"
      ],
      "metadata": {
        "colab": {
          "base_uri": "https://localhost:8080/"
        },
        "id": "4PLM3ibhMLJv",
        "outputId": "acbf3dd6-5779-41b2-c2e2-c5975964ac1e"
      },
      "execution_count": 56,
      "outputs": [
        {
          "output_type": "stream",
          "name": "stdout",
          "text": [
            "1 2 3\n",
            "2 3 5\n",
            "3 5 6\n"
          ]
        }
      ]
    },
    {
      "cell_type": "code",
      "source": [
        "s=[(\"인터넷\",\"이정재\",\"010-123-1234\",90),(\"미디어\",\"전지현\",\"010-123-4560\",80),(\"정통과\",\"송혜교\",\"010-123-2244\",100),(\"컴퓨터\",\"김소현\",\"010-123-3555\",85),(\"국문과\",\"강하늘\",\"010-123-7890\",95)]\n",
        "newS=sorted(s,key= lambda x:x[3],reverse=True)\n",
        "print(\"학 과\" ,\"이  름\",\"연락처\",'       ',\"점수\")\n",
        "for a,b,c,d in newS:\n",
        "\n",
        "  print(a,b,c,d)\n",
        "\n",
        "  \n"
      ],
      "metadata": {
        "colab": {
          "base_uri": "https://localhost:8080/"
        },
        "id": "jquhjsehNzsP",
        "outputId": "181bb57a-1449-4798-aba6-7b120b6f8941"
      },
      "execution_count": 75,
      "outputs": [
        {
          "output_type": "stream",
          "name": "stdout",
          "text": [
            "학 과 이  름 연락처         점수\n",
            "정통과 송혜교 010-123-2244 100\n",
            "국문과 강하늘 010-123-7890 95\n",
            "인터넷 이정재 010-123-1234 90\n",
            "컴퓨터 김소현 010-123-3555 85\n",
            "미디어 전지현 010-123-4560 80\n"
          ]
        }
      ]
    },
    {
      "cell_type": "code",
      "source": [
        "grade = {\"아이키\":90,\"박보검\":95,\"유아인\":85,\"전지현\":100,\"송중기\":90}\n",
        "newgrade=sorted(grade.items(),key=lambda x:x[1],reverse=True)\n",
        "sum=0\n",
        "for k,v in newgrade:\n",
        "  print(k,v)\n",
        "  sum+=v\n",
        "print('='*20)\n",
        "print('합계:',sum)\n",
        "\n"
      ],
      "metadata": {
        "colab": {
          "base_uri": "https://localhost:8080/"
        },
        "id": "eBRRgyZ-RI-6",
        "outputId": "514575cf-f5b6-493f-e50d-196912c1de5f"
      },
      "execution_count": 1,
      "outputs": [
        {
          "output_type": "stream",
          "name": "stdout",
          "text": [
            "전지현 100\n",
            "박보검 95\n",
            "아이키 90\n",
            "송중기 90\n",
            "유아인 85\n",
            "====================\n",
            "합계: 460\n"
          ]
        }
      ]
    },
    {
      "cell_type": "code",
      "source": [
        "movie_list = [(\"오징어게임\",50.45),(\"이터널스\", 35.46), (\"그레비티\", 9.8), (\"노타임투다이\", 52.5),(\"스파이더맨\", 15.47)]\n",
        "movie_list = sorted(movie_list, key = lambda x:x[1], reverse = True)\n",
        "movie = {}\n",
        "for i,j in movie_list:\n",
        "   \n",
        "    movie[i] = j\n",
        "count = 1\n",
        "print('영화제목',' ','예매율','','순위')\n",
        "print('='*7,'','='*6,'='*3)\n",
        "for i in movie:\n",
        "    print(i,'', movie[i], '', count)\n",
        "    count += 1"
      ],
      "metadata": {
        "colab": {
          "base_uri": "https://localhost:8080/"
        },
        "id": "ILVlOoQlJjbb",
        "outputId": "c4777cab-b03b-4a63-bb02-16e975914436"
      },
      "execution_count": 44,
      "outputs": [
        {
          "output_type": "stream",
          "name": "stdout",
          "text": [
            "영화제목   예매율  순위\n",
            "=======  ====== ===\n",
            "노타임투다이  52.5  1\n",
            "오징어게임  50.45  2\n",
            "이터널스  35.46  3\n",
            "스파이더맨  15.47  4\n",
            "그레비티  9.8  5\n"
          ]
        }
      ]
    },
    {
      "cell_type": "code",
      "source": [
        "m = {\"오징어게임\":50.45,\"이터널스\":35.46,\"그레비티\":9.8,\"노타임투다이\":52.5,\"스파이더맨\":15.47}\n",
        "newgrade=sorted(m.items(),key=lambda x:x[1],reverse=True)\n",
        "\n",
        "for k,v in newgrade:\n",
        "\n",
        "  print(k,v)\n",
        "  \n",
        "\n",
        "\n"
      ],
      "metadata": {
        "colab": {
          "base_uri": "https://localhost:8080/"
        },
        "id": "laBLAdAeD5I5",
        "outputId": "3a942bd0-6c84-48a1-f9a9-a40cf745a629"
      },
      "execution_count": 18,
      "outputs": [
        {
          "output_type": "stream",
          "name": "stdout",
          "text": [
            "노타임투다이 52.5\n",
            "오징어게임 50.45\n",
            "이터널스 35.46\n",
            "스파이더맨 15.47\n",
            "그레비티 9.8\n"
          ]
        }
      ]
    }
  ]
}