{
  "nbformat": 4,
  "nbformat_minor": 0,
  "metadata": {
    "colab": {
      "provenance": [],
      "authorship_tag": "ABX9TyM2xjox4NbNY/crH7yl9TDY",
      "include_colab_link": true
    },
    "kernelspec": {
      "name": "python3",
      "display_name": "Python 3"
    },
    "language_info": {
      "name": "python"
    }
  },
  "cells": [
    {
      "cell_type": "markdown",
      "metadata": {
        "id": "view-in-github",
        "colab_type": "text"
      },
      "source": [
        "<a href=\"https://colab.research.google.com/github/Leegyuho2/ict002python/blob/main/Untitled2.ipynb\" target=\"_parent\"><img src=\"https://colab.research.google.com/assets/colab-badge.svg\" alt=\"Open In Colab\"/></a>"
      ]
    },
    {
      "cell_type": "code",
      "execution_count": 4,
      "metadata": {
        "colab": {
          "base_uri": "https://localhost:8080/"
        },
        "id": "Tcpe3mPDPVla",
        "outputId": "746ac4ec-19ce-49c4-ab4f-47a5f76fb7c9"
      },
      "outputs": [
        {
          "output_type": "stream",
          "name": "stdout",
          "text": [
            "Python \t 6\n",
            "Java \t 4\n",
            "Web \t 3\n",
            "C \t 1\n",
            "R \t 1\n"
          ]
        }
      ],
      "source": [
        "def myFunction():\n",
        "  langStr=(\"Java\",\"C\",\"Python\",\"R\",\"Web\")\n",
        "  x = list(langStr)\n",
        "  x.sort(key = len, reverse = True)\n",
        "  a = list(map(lambda x:len(x), langStr))\n",
        "  a.sort(reverse = True)\n",
        "  for i in range(0,5):\n",
        "    print(f\"{x[i]} \\t {a[i]}\")\n",
        "\n",
        "\n",
        "myFunction()"
      ]
    },
    {
      "cell_type": "code",
      "source": [
        "def recuFact(x):\n",
        "  if x==1:\n",
        "    return 1\n",
        "  else :\n",
        "    return (x*recuFact(x-1))\n",
        "num=int(input(\"숫자:\"))\n",
        "print(\"팩토리얼 값:\",recuFact(num))"
      ],
      "metadata": {
        "colab": {
          "base_uri": "https://localhost:8080/"
        },
        "id": "omMoqmdOUHRn",
        "outputId": "1216f5cb-d30f-4d66-f4e7-24825ac961bb"
      },
      "execution_count": 6,
      "outputs": [
        {
          "output_type": "stream",
          "name": "stdout",
          "text": [
            "숫자:5\n",
            "팩토리얼 값: 120\n"
          ]
        }
      ]
    },
    {
      "cell_type": "code",
      "source": [
        "def powerNum(a, n):\n",
        "    ret = 1\n",
        "    while n > 0:\n",
        "        if n % 2 != 0:\n",
        "            ret *= a\n",
        "        a *= a\n",
        "        n //= 2        \n",
        "    \n",
        "    return ret\n",
        "    \n",
        "print(\"2**4 =\",powerNum(2, 4))\n"
      ],
      "metadata": {
        "colab": {
          "base_uri": "https://localhost:8080/"
        },
        "id": "9YTgELWTV0jc",
        "outputId": "ade63b13-ef4c-4a17-ac13-020237bfe16e"
      },
      "execution_count": 12,
      "outputs": [
        {
          "output_type": "stream",
          "name": "stdout",
          "text": [
            "2**4 = 16\n"
          ]
        }
      ]
    },
    {
      "cell_type": "code",
      "source": [],
      "metadata": {
        "colab": {
          "base_uri": "https://localhost:8080/"
        },
        "id": "2BLo1ns3YCCa",
        "outputId": "6098f888-9e1f-4955-d11d-f6e14b1966a4"
      },
      "execution_count": 17,
      "outputs": [
        {
          "output_type": "stream",
          "name": "stdout",
          "text": [
            "2**4 = 16\n"
          ]
        }
      ]
    },
    {
      "cell_type": "code",
      "source": [
        "def power(x, y):\n",
        "  \n",
        "    if y ==0:\n",
        "        return 1\n",
        "    if y == 1:\n",
        "        return x*y\n",
        "\n",
        "    return power(x,y//2)*power(x,y//2)*power(x,y%2)\n",
        "\n",
        "\n",
        "print(power(2, 4))\n"
      ],
      "metadata": {
        "colab": {
          "base_uri": "https://localhost:8080/"
        },
        "id": "CJLnE1YQYCDT",
        "outputId": "3ea8f597-71b0-4681-ad4b-9bc6ea3cf6e6"
      },
      "execution_count": 20,
      "outputs": [
        {
          "output_type": "stream",
          "name": "stdout",
          "text": [
            "16\n"
          ]
        }
      ]
    },
    {
      "cell_type": "code",
      "source": [
        "def powerNum(x,y):\n",
        "  if y == 0:\n",
        "    return 1\n",
        "  else:\n",
        "    return x*powerNum(x,y-1)\n",
        "\n",
        "x = int(input(\"x: \"))\n",
        "y = int(input(\"y: \"))\n",
        "\n",
        "result = powerNum(x,y)\n",
        "print(f'{x} ** {y} = {result}')"
      ],
      "metadata": {
        "colab": {
          "base_uri": "https://localhost:8080/"
        },
        "id": "omT-iWBJc7G7",
        "outputId": "0ef21895-0c38-4006-da1b-98f09929d638"
      },
      "execution_count": 23,
      "outputs": [
        {
          "output_type": "stream",
          "name": "stdout",
          "text": [
            "x: 5\n",
            "y: 20\n",
            "5 ** 20 = 95367431640625\n"
          ]
        }
      ]
    },
    {
      "cell_type": "code",
      "source": [
        "langStr = (\"Java\",\"C\",\"Python\",\"R\",\"web\")\n",
        "len_list = list(map(lambda x:len(x),langStr))\n",
        "len_list.sort(reverse=True) #문자열 길이 내림차순 정렬\n",
        "\n",
        "langStr_list = list(langStr)# tuple > list 변환\n",
        "\n",
        "for length in len_list:\n",
        "  for string in langStr_list:\n",
        "    if length == len(string):\n",
        "      print(f'{string}\\t{length}')\n",
        "      langStr_list.remove(string)"
      ],
      "metadata": {
        "colab": {
          "base_uri": "https://localhost:8080/"
        },
        "id": "ZjagCo1ohbEe",
        "outputId": "50ba5acf-55e3-4df0-b32a-7fca1af855ee"
      },
      "execution_count": 3,
      "outputs": [
        {
          "output_type": "stream",
          "name": "stdout",
          "text": [
            "Python\t6\n",
            "Java\t4\n",
            "web\t3\n",
            "C\t1\n",
            "R\t1\n"
          ]
        }
      ]
    }
  ]
}