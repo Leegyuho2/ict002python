{
  "nbformat": 4,
  "nbformat_minor": 0,
  "metadata": {
    "colab": {
      "provenance": [],
      "collapsed_sections": [],
      "authorship_tag": "ABX9TyMiGjB+W3AgSLE2dPfhli8W",
      "include_colab_link": true
    },
    "kernelspec": {
      "name": "python3",
      "display_name": "Python 3"
    },
    "language_info": {
      "name": "python"
    }
  },
  "cells": [
    {
      "cell_type": "markdown",
      "metadata": {
        "id": "view-in-github",
        "colab_type": "text"
      },
      "source": [
        "<a href=\"https://colab.research.google.com/github/Leegyuho2/ict002python/blob/main/w6.ipynb\" target=\"_parent\"><img src=\"https://colab.research.google.com/assets/colab-badge.svg\" alt=\"Open In Colab\"/></a>"
      ]
    },
    {
      "cell_type": "code",
      "execution_count": null,
      "metadata": {
        "colab": {
          "base_uri": "https://localhost:8080/"
        },
        "id": "lJ8EELNbeIwu",
        "outputId": "2ecfc3dc-2b0e-4ba5-fd43-00ad2d728688"
      },
      "outputs": [
        {
          "output_type": "stream",
          "name": "stdout",
          "text": [
            "1\n",
            "12\n",
            "123\n",
            "1234\n",
            "12345\n"
          ]
        }
      ],
      "source": [
        "for i in range(1,6):\n",
        "  for j in range(1,i+1):\n",
        "    print(j,end=\"\")\n",
        "  print()\n",
        "   "
      ]
    },
    {
      "cell_type": "code",
      "source": [
        "for i in range(5,0,-1):\n",
        "  for j in range(i,0,-1):\n",
        "    print(j,end=\"\")\n",
        "  print()"
      ],
      "metadata": {
        "id": "Smzau480qVIO"
      },
      "execution_count": null,
      "outputs": []
    },
    {
      "cell_type": "code",
      "source": [
        "for i in range(11):\n",
        "  print(f'숫자:{i}')\n",
        "  if i > 3:\n",
        "    break\n",
        "  else:\n",
        "    print(f'\\t제곱근:{i*i}')"
      ],
      "metadata": {
        "colab": {
          "base_uri": "https://localhost:8080/"
        },
        "id": "7VxG3-vXuONY",
        "outputId": "fbebfc0a-1a99-44ae-9202-e5ebc2d35976"
      },
      "execution_count": null,
      "outputs": [
        {
          "output_type": "stream",
          "name": "stdout",
          "text": [
            "숫자:0\n",
            "\t제곱근:0\n",
            "숫자:1\n",
            "\t제곱근:1\n",
            "숫자:2\n",
            "\t제곱근:4\n",
            "숫자:3\n",
            "\t제곱근:9\n",
            "숫자:4\n"
          ]
        }
      ]
    },
    {
      "cell_type": "code",
      "source": [
        "num = int(input())\n",
        "for i in range(0,num+1,1):\n",
        "  if i >= 6:\n",
        "    break\n",
        "  print(i,end=\"\")    \n",
        "\n",
        "    \n",
        "\n",
        "  \n",
        "\n",
        "\n",
        "\n"
      ],
      "metadata": {
        "colab": {
          "base_uri": "https://localhost:8080/"
        },
        "id": "IccMvhgc0ORI",
        "outputId": "83719a42-5054-4b5c-a676-f771ba4aebd0"
      },
      "execution_count": null,
      "outputs": [
        {
          "output_type": "stream",
          "name": "stdout",
          "text": [
            "8\n",
            "012345"
          ]
        }
      ]
    },
    {
      "cell_type": "code",
      "source": [
        "sum = 0\n",
        "while True:\n",
        "  n = int(input())\n",
        "  sum += n\n",
        "  if n ==0:\n",
        "    break\n",
        "print(f'합계={sum}')\n",
        "\n",
        "  \n",
        "  \n",
        "\n",
        "\n"
      ],
      "metadata": {
        "colab": {
          "base_uri": "https://localhost:8080/"
        },
        "id": "MDnnMxck3akx",
        "outputId": "14812394-fa45-4046-e527-ef0a9bbdf752"
      },
      "execution_count": 75,
      "outputs": [
        {
          "output_type": "stream",
          "name": "stdout",
          "text": [
            "5\n",
            "4\n",
            "1\n",
            "6\n",
            "0\n",
            "합계:16\n"
          ]
        }
      ]
    },
    {
      "cell_type": "code",
      "source": [
        "\n",
        "sum = 0 \n",
        "while True:\n",
        "  \n",
        "  n = int(input())\n",
        "  \n",
        "  if n >= 100:\n",
        "    break\n",
        "  sum += n\n",
        "  \n",
        "  \n",
        "print(f'합계={sum}')\n",
        "\n",
        "  \n",
        "  \n",
        "\n",
        "\n"
      ],
      "metadata": {
        "id": "QDC3l17gqG4h",
        "colab": {
          "base_uri": "https://localhost:8080/"
        },
        "outputId": "a5a03883-00f1-45af-f65f-512681b55cf3"
      },
      "execution_count": 86,
      "outputs": [
        {
          "output_type": "stream",
          "name": "stdout",
          "text": [
            "10\n",
            "3\n",
            "9\n",
            "101\n",
            "합계=22\n"
          ]
        }
      ]
    },
    {
      "cell_type": "code",
      "source": [
        "sum = 0\n",
        "while True:\n",
        "  animal = input()\n",
        "  \n",
        "  if animal == '코알라':\n",
        "    break\n",
        "print(f'{n}회만에 정답을 맞추셨습니다길')\n",
        "\n",
        "\n",
        "\n"
      ],
      "metadata": {
        "colab": {
          "base_uri": "https://localhost:8080/"
        },
        "id": "B1xy3AW075uq",
        "outputId": "4de20d1f-9db8-4754-9b6c-b790f8e5da60"
      },
      "execution_count": 89,
      "outputs": [
        {
          "output_type": "stream",
          "name": "stdout",
          "text": [
            "코알라\n",
            "101회만에 정답을 맞추셨습니다길\n"
          ]
        }
      ]
    },
    {
      "cell_type": "code",
      "source": [
        "num = [15,23,42,50,22,31,1]\n",
        "for i in num:\n",
        "  if i % 2 == 0:\n",
        "    continue\n",
        "  print(i,end=\" \")"
      ],
      "metadata": {
        "colab": {
          "base_uri": "https://localhost:8080/"
        },
        "id": "n6JLHDcU9FDg",
        "outputId": "7a64828e-dd8c-4b2a-9c70-376111e32eca"
      },
      "execution_count": 94,
      "outputs": [
        {
          "output_type": "stream",
          "name": "stdout",
          "text": [
            "15 23 31 1 "
          ]
        }
      ]
    },
    {
      "cell_type": "code",
      "source": [
        "num=[1,2,3,3,4,5,6,7,2,3,8,9,10]\n",
        "print(num.count(3))\n",
        "\n"
      ],
      "metadata": {
        "colab": {
          "base_uri": "https://localhost:8080/"
        },
        "id": "U8bq1eFID19L",
        "outputId": "b3ca6116-78a4-40e7-9ea6-5589fd0523b3"
      },
      "execution_count": 110,
      "outputs": [
        {
          "output_type": "stream",
          "name": "stdout",
          "text": [
            "3\n"
          ]
        }
      ]
    },
    {
      "cell_type": "code",
      "source": [
        "n=[15,23,18,47,23]\n",
        "e=0\n",
        "o=0\n",
        "for i in n:\n",
        "  if i % 2==0:\n",
        "    e +=1\n",
        "  else:\n",
        "    o += 1\n",
        "\n",
        "print(f'홀수개수:{o}')\n",
        "print(f'짝수개수:{e} ')"
      ],
      "metadata": {
        "colab": {
          "base_uri": "https://localhost:8080/"
        },
        "id": "C-DKD-6TFe4n",
        "outputId": "b993c0d5-2bde-42e9-82b1-15fb6df59682"
      },
      "execution_count": 114,
      "outputs": [
        {
          "output_type": "stream",
          "name": "stdout",
          "text": [
            "홀수개수:4\n",
            "짝수개수:1 \n"
          ]
        }
      ]
    },
    {
      "cell_type": "code",
      "source": [],
      "metadata": {
        "colab": {
          "base_uri": "https://localhost:8080/",
          "height": 133
        },
        "id": "_24dcEmHIDUc",
        "outputId": "946c00cb-65e4-47af-e5dd-0be2935f5f0a"
      },
      "execution_count": 120,
      "outputs": [
        {
          "output_type": "error",
          "ename": "SyntaxError",
          "evalue": "ignored",
          "traceback": [
            "\u001b[0;36m  File \u001b[0;32m\"<ipython-input-120-f9a55a2441f3>\"\u001b[0;36m, line \u001b[0;32m1\u001b[0m\n\u001b[0;31m    flower = ['장미','백합,'튤립','국화','수선화']\u001b[0m\n\u001b[0m                         ^\u001b[0m\n\u001b[0;31mSyntaxError\u001b[0m\u001b[0;31m:\u001b[0m invalid syntax\n"
          ]
        }
      ]
    },
    {
      "cell_type": "code",
      "source": [
        "alphaList=['a','b','c','d','e','f','g','h']\n",
        "print(alphaList[4])\n",
        "print(alphaList[3])\n",
        "\n",
        "\n",
        "\n"
      ],
      "metadata": {
        "colab": {
          "base_uri": "https://localhost:8080/"
        },
        "id": "AdbfDYO6LcBH",
        "outputId": "134a3c61-7edf-4160-f1c2-a65c1324ebb8"
      },
      "execution_count": 129,
      "outputs": [
        {
          "output_type": "stream",
          "name": "stdout",
          "text": [
            "e\n",
            "d\n"
          ]
        }
      ]
    },
    {
      "cell_type": "code",
      "source": [
        "alphaList=['a','b','c','d','e','f','g','h']\n",
        "print(alphaList)\n",
        "print(alphaList[2:6])\n",
        "print(alphaList[-6:-2])\n"
      ],
      "metadata": {
        "colab": {
          "base_uri": "https://localhost:8080/"
        },
        "id": "j0YWJUCaM5xM",
        "outputId": "86d746c0-d6d1-49d4-d656-9fc5b8c8ef5f"
      },
      "execution_count": 142,
      "outputs": [
        {
          "output_type": "stream",
          "name": "stdout",
          "text": [
            "['a', 'b', 'c', 'd', 'e', 'f', 'g', 'h']\n",
            "['c', 'd', 'e', 'f']\n",
            "['c', 'd', 'e', 'f']\n"
          ]
        }
      ]
    },
    {
      "cell_type": "code",
      "source": [
        "\n",
        "sum = 0\n",
        "for i in range(5):\n",
        "  num = int (input (\"어떤 수? \")) \n",
        "  if num < 0 :\n",
        "    continue\n",
        "  sum += num\n",
        "\n",
        "\n",
        "print(f\"양수 합계; {sum}\")"
      ],
      "metadata": {
        "colab": {
          "base_uri": "https://localhost:8080/"
        },
        "id": "EjDwyIXTDulz",
        "outputId": "cecdbeca-0b18-47c2-9955-2379d3ba3352"
      },
      "execution_count": 109,
      "outputs": [
        {
          "output_type": "stream",
          "name": "stdout",
          "text": [
            "어떤 수? 15\n",
            "어떤 수? -3\n",
            "어떤 수? 20\n",
            "어떤 수? -20\n",
            "어떤 수? 15\n",
            "양수 합계; 50\n"
          ]
        }
      ]
    },
    {
      "cell_type": "code",
      "source": [
        "a = int(input(\"숫자를 입력하세요\"))\n",
        "b =0\n",
        "\n",
        "for i in range(2,a):\n",
        "  if a % i==0:\n",
        "    b=1\n",
        "if b==0:\n",
        "  print(\"소수입니다\")\n",
        "else:\n",
        "  print(\"소수가 아닙니다\")\n"
      ],
      "metadata": {
        "colab": {
          "base_uri": "https://localhost:8080/"
        },
        "id": "QSFGc90rtxZK",
        "outputId": "914a2409-8fbd-48b2-e499-dde4db5b5e5f"
      },
      "execution_count": 4,
      "outputs": [
        {
          "output_type": "stream",
          "name": "stdout",
          "text": [
            "숫자를 입력하세요-1\n",
            "숫자를 다시 입력하세요\n",
            "소수입니다\n"
          ]
        }
      ]
    },
    {
      "cell_type": "code",
      "source": [
        "for i in range(1,6):\n",
        "  for j in range(1,i+1):\n",
        "    print(i,end=\"\")\n",
        "  print()\n",
        "   "
      ],
      "metadata": {
        "colab": {
          "base_uri": "https://localhost:8080/"
        },
        "id": "5x-uy5N6uFS5",
        "outputId": "c18b1835-56d1-424a-a893-45c760393699"
      },
      "execution_count": 6,
      "outputs": [
        {
          "output_type": "stream",
          "name": "stdout",
          "text": [
            "1\n",
            "22\n",
            "333\n",
            "4444\n",
            "55555\n"
          ]
        }
      ]
    },
    {
      "cell_type": "code",
      "source": [
        "for i in '''12345\n",
        " 2345\n",
        "  345\n",
        "   45\n",
        "    5'''.split(\"\\n\"):\n",
        "    print(i)"
      ],
      "metadata": {
        "colab": {
          "base_uri": "https://localhost:8080/"
        },
        "id": "rJ65Zbd3uy8z",
        "outputId": "ddd122a9-e809-45fc-960a-63acf74bf5bf"
      },
      "execution_count": 8,
      "outputs": [
        {
          "output_type": "stream",
          "name": "stdout",
          "text": [
            "12345\n",
            " 2345\n",
            "  345\n",
            "   45\n",
            "    5\n"
          ]
        }
      ]
    },
    {
      "cell_type": "code",
      "source": [
        "s = list(\"12345\")\n",
        "for i in range(5):\n",
        "    print(''.join(s))\n",
        "    s[i] = ' '"
      ],
      "metadata": {
        "colab": {
          "base_uri": "https://localhost:8080/"
        },
        "id": "wYXBe8I8u5VY",
        "outputId": "b4f017a7-ec60-4cc3-a3f3-20b318dde84e"
      },
      "execution_count": 8,
      "outputs": [
        {
          "output_type": "stream",
          "name": "stdout",
          "text": [
            "12345\n",
            " 2345\n",
            "  345\n",
            "   45\n",
            "    5\n"
          ]
        }
      ]
    },
    {
      "cell_type": "code",
      "source": [
        "s = list(\"12345\")\n",
        "for i in range(5):\n",
        "    print(''.join(s))\n",
        "    s[i] = ' '"
      ],
      "metadata": {
        "colab": {
          "base_uri": "https://localhost:8080/"
        },
        "id": "I6qYm1ZYu-bM",
        "outputId": "c0b3ae98-3309-4d14-9ed0-8181cdcc2923"
      },
      "execution_count": 11,
      "outputs": [
        {
          "output_type": "stream",
          "name": "stdout",
          "text": [
            "12345\n",
            " 2345\n",
            "  345\n",
            "   45\n",
            "    5\n"
          ]
        }
      ]
    },
    {
      "cell_type": "code",
      "source": [
        "flower=['장미','백합','튤립','국화','수선화']\n",
        "for i in range(len(flower)):\n",
        "  if len(flower[i]) == 3:\n",
        "      print(flower[i])"
      ],
      "metadata": {
        "colab": {
          "base_uri": "https://localhost:8080/"
        },
        "id": "0a4BUQaLvgF6",
        "outputId": "1d7195bd-e22d-4bec-e027-e1d3669d701e"
      },
      "execution_count": 9,
      "outputs": [
        {
          "output_type": "stream",
          "name": "stdout",
          "text": [
            "수선화\n"
          ]
        }
      ]
    },
    {
      "cell_type": "code",
      "source": [
        "flower =['장미','백합','튤립','국화','수선화']\n",
        "flower.append('해바라기')\n",
        "flower.sort(key = len,reverse=True)\n",
        "\n",
        "\n",
        "for i in flower:\n",
        "  print(f'{i}{len(i)}')\n",
        "  \n",
        "\n",
        "\n",
        "  \n"
      ],
      "metadata": {
        "colab": {
          "base_uri": "https://localhost:8080/"
        },
        "id": "kpMLOo0vxc6R",
        "outputId": "cb5809d4-b7d4-4e17-94ac-f3f724969c96"
      },
      "execution_count": 23,
      "outputs": [
        {
          "output_type": "stream",
          "name": "stdout",
          "text": [
            "해바라기4\n",
            "수선화3\n",
            "장미2\n",
            "백합2\n",
            "튤립2\n",
            "국화2\n"
          ]
        }
      ]
    },
    {
      "cell_type": "code",
      "source": [
        "input_str = \"<div>abc</div><p><em><i>test test test</b></em></p>\"\n",
        "\n",
        "# input_str = \"<div></div><b></b></p></div>\"\n",
        "\n",
        "open_tag = []\n",
        "close_tag = []\n",
        "\n",
        "while input_str: # '' [] = false\n",
        "    open_idx = input_str.find('<')\n",
        "    close_idx = input_str.find('>')\n",
        "\n",
        "    tag = input_str[open_idx + 1:close_idx] \n",
        "\n",
        "    if '/' in tag:\n",
        "        close_tag.append(tag[1:])\n",
        "    else:\n",
        "        open_tag.append(tag)\n",
        "\n",
        "    input_str = input_str[close_idx + 1:]\n",
        "\n",
        "\n",
        "\n",
        "for c_tag in close_tag:\n",
        "    if c_tag in open_tag:\n",
        "        open_tag.remove(c_tag)\n",
        "\n",
        "for u_tag in open_tag:\n",
        "    print(u_tag)"
      ],
      "metadata": {
        "colab": {
          "base_uri": "https://localhost:8080/"
        },
        "id": "JUYgRHYqpVco",
        "outputId": "859f95d4-9b56-444f-9185-40a39ae104ad"
      },
      "execution_count": 25,
      "outputs": [
        {
          "output_type": "stream",
          "name": "stdout",
          "text": [
            "i\n"
          ]
        }
      ]
    },
    {
      "cell_type": "code",
      "source": [
        "def solution(s):\n",
        "    answer=10000\n",
        "    for n in range(1,len(s)//2+2):\n",
        "        res=''\n",
        "        cnt=1\n",
        "        tmp=s[:n] #단위문자열 초기화\n",
        "\n",
        "        for i in range(n,len(s)+n,n):\n",
        "            if tmp == s[i:i+n]:\n",
        "                cnt+=1\n",
        "            else:\n",
        "                if cnt==1:\n",
        "                    res+=tmp\n",
        "                else:\n",
        "                    res+=str(cnt)+tmp\n",
        "                tmp=s[i:i+n]\n",
        "                cnt=1\n",
        "        #print(res)\n",
        "        answer=min(answer,len(res))\n",
        "    return answer\n",
        "string = input()\n",
        "print(solution(string))"
      ],
      "metadata": {
        "colab": {
          "base_uri": "https://localhost:8080/"
        },
        "id": "uCgofdVJ34K8",
        "outputId": "2c1645ed-0322-4d05-8027-c6f20e471065"
      },
      "execution_count": 32,
      "outputs": [
        {
          "output_type": "stream",
          "name": "stdout",
          "text": [
            "aabbaccc\n",
            "7\n"
          ]
        }
      ]
    },
    {
      "cell_type": "code",
      "source": [],
      "metadata": {
        "id": "WvDBqOHKt1Fq"
      },
      "execution_count": null,
      "outputs": []
    }
  ]
}