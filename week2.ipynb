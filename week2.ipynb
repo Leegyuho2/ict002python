{
  "nbformat": 4,
  "nbformat_minor": 0,
  "metadata": {
    "colab": {
      "provenance": []
    },
    "kernelspec": {
      "name": "python3",
      "display_name": "Python 3"
    },
    "language_info": {
      "name": "python"
    }
  },
  "cells": [
    {
      "cell_type": "code",
      "source": [
        "# 이름과 태어난 생년월일을 입력받아 출력하는 프로그램임\n",
        "name = input(\"이름을 입력하세요: \")\n",
        "year,month,day = input(\"당신이 태어난 해의년도,월,일을 차례로 입력하시요:\").split(\",\")\n",
        "print(f\"{name}싸! 당신의 생년월일은{year}년{month}월{day}일입니다.\")"
      ],
      "metadata": {
        "colab": {
          "base_uri": "https://localhost:8080/"
        },
        "id": "cP6aM41sdH5u",
        "outputId": "2d8b8be2-a5cd-4546-97b3-c6335d4552f0"
      },
      "execution_count": 3,
      "outputs": [
        {
          "output_type": "stream",
          "name": "stdout",
          "text": [
            "이름을 입력하세요: 이규호\n",
            "당신이 태어난 해의년도,월,일을 차례로 입력하시요:2000,3,2\n",
            "이규호싸! 당신의 생년월일은2000년3월2일입니다.\n"
          ]
        }
      ]
    },
    {
      "cell_type": "code",
      "source": [
        "n1 = int(input(\"첫 번째 정수?\"))\n",
        "n2 = int(input(\"두 번째 정수?\"))\n",
        "n3 = int(input(\"세 번째 정수?\"))\n",
        "sum = n1 + n2 + n3\n",
        "print(f\"{n1}과{n2}과{n3}의 합은{sum:0,d}이다\")"
      ],
      "metadata": {
        "id": "-uaX2yrqemwG"
      },
      "execution_count": null,
      "outputs": []
    },
    {
      "cell_type": "code",
      "source": [
        "국어 = int(input(\"국어: \")) \n",
        "영어 = int(input(\"영어: \")) \n",
        "수학 = int(input(\"수학: \")) \n",
        "총점 = 국어 + 영어 + 수학\n",
        "평균 = 총점 / 3\n",
        "print(f\"총점: {총점} \\n평균:{평균:,.2f}\")\n",
        "\n",
        "# \"{0}, {1}\".format(numb,num2)\n",
        "# f\"{numb}, {num2}\""
      ],
      "metadata": {
        "id": "iCElY26MgnAk",
        "outputId": "4d6dee65-1745-43b9-b5fa-f340dc16d5d8",
        "colab": {
          "base_uri": "https://localhost:8080/"
        }
      },
      "execution_count": 9,
      "outputs": [
        {
          "output_type": "stream",
          "name": "stdout",
          "text": [
            "국어: 30\n",
            "영어: 30\n",
            "수학: 0\n",
            "총점: 60 \n",
            "평균:20.00\n"
          ]
        }
      ]
    },
    {
      "cell_type": "code",
      "source": [
        "list_color = [\"Red\", \"blue\", \"orange\", \"green\", \"purple\"]\n",
        "print(list_color.pop())\n",
        "print(list_color)\n",
        "list_color.remove(\"orange\")\n",
        "print(list_color)\n",
        "del list_color[0]\n",
        "del list_color[1]\n",
        "del list_color[0]\n",
        "\n",
        "\n",
        "print(list_color)\n",
        "\n",
        "\n",
        "\n",
        "\n"
      ],
      "metadata": {
        "id": "UMJRFXDjjshg",
        "outputId": "eadab6a4-4899-43d6-9a8c-2a4ebb9d2912",
        "colab": {
          "base_uri": "https://localhost:8080/"
        }
      },
      "execution_count": 47,
      "outputs": [
        {
          "output_type": "stream",
          "name": "stdout",
          "text": [
            "purple\n",
            "['Red', 'blue', 'orange', 'green']\n",
            "['Red', 'blue', 'green']\n",
            "[]\n"
          ]
        }
      ]
    },
    {
      "cell_type": "code",
      "source": [
        "(5 * 5 + 2*(25-5)/5)**2"
      ],
      "metadata": {
        "id": "yzsjf6jYu8qS",
        "outputId": "9d1bd7c9-50e2-4324-bd62-89fc11e804a0",
        "colab": {
          "base_uri": "https://localhost:8080/"
        }
      },
      "execution_count": 61,
      "outputs": [
        {
          "output_type": "execute_result",
          "data": {
            "text/plain": [
              "1089.0"
            ]
          },
          "metadata": {},
          "execution_count": 61
        }
      ]
    },
    {
      "cell_type": "code",
      "source": [
        "#화씨온도를 섭씨온도를 변환하는 프로그램\n",
        "화씨 = float(input(\"화씨온도:\"))\n",
        "섭씨 = ((화씨 - 32.0)/1.8)\n",
        "print(f\"입력한 화씨온도{화씨}는 섭씨온도{섭씨:,.2f}이다.\")"
      ],
      "metadata": {
        "id": "nT69wuJ4i8NG",
        "outputId": "a2168d00-4029-4eba-efea-272d189438b5",
        "colab": {
          "base_uri": "https://localhost:8080/"
        }
      },
      "execution_count": 50,
      "outputs": [
        {
          "output_type": "stream",
          "name": "stdout",
          "text": [
            "화씨온도:72\n",
            "입력한 화씨온도72.0는 섭씨온도22.22이다.\n"
          ]
        }
      ]
    },
    {
      "cell_type": "markdown",
      "source": [],
      "metadata": {
        "id": "_V_vWIrDdd9e"
      }
    },
    {
      "cell_type": "code",
      "source": [
        "분자 = int(input(\"분자값:\"))\n",
        "분모 = int(input(\"분모값:\"))\n",
        "x = 분자 // 분모\n",
        "y = 분자 % 분모\n",
        "print(f\"나눗셈몫= {x}\\n나눗셈 나머지=  {y}\")\n"
      ],
      "metadata": {
        "id": "EBQ4oY_nxCb4",
        "outputId": "8dcf0b57-ab45-4cf6-ad99-203a0f1075db",
        "colab": {
          "base_uri": "https://localhost:8080/"
        }
      },
      "execution_count": 56,
      "outputs": [
        {
          "output_type": "stream",
          "name": "stdout",
          "text": [
            "분자값:13\n",
            "분모값:5\n",
            "나눗셈몫= 2\n",
            "나눗셈 나머지=  3\n"
          ]
        }
      ]
    },
    {
      "cell_type": "code",
      "source": [
        "\n",
        "money = int(input(\"부모님으로 부터 받은 용돈\"))\n",
        "price = int(input(\"물건값: \"))\n",
        "change = money - price\n",
        "print(\"거스름돈:\",change)\n",
        "coin500 = change //500\n",
        "change = change % 500\n",
        "coin100 = change //100\n",
        "change = change % 100\n",
        "coin50 = change //50\n",
        "\n",
        "print(f\"500원 짜리 거스름돈: {coin500}개\")\n",
        "print(f\"500원 짜리 거스름돈: {coin100}개\")\n",
        "print(f\"500원 짜리 거스름돈: {coin50}개\")\n"
      ],
      "metadata": {
        "id": "0fggOeju15uS",
        "outputId": "708eb707-d0e7-4c4d-b2a8-d9d79f386d4e",
        "colab": {
          "base_uri": "https://localhost:8080/"
        }
      },
      "execution_count": 66,
      "outputs": [
        {
          "output_type": "stream",
          "name": "stdout",
          "text": [
            "부모님으로 부터 받은 용돈10000\n",
            "물건값: 3550\n",
            "거스름돈: 6450\n",
            "500원 짜리 거스름돈: ,12개\n",
            "500원 짜리 거스름돈: ,4개\n",
            "500원 짜리 거스름돈: ,1개\n"
          ]
        }
      ]
    },
    {
      "cell_type": "code",
      "source": [],
      "metadata": {
        "id": "blM4yxC515yw"
      },
      "execution_count": null,
      "outputs": []
    },
    {
      "cell_type": "code",
      "source": [
        "13\n",
        "5\n"
      ],
      "metadata": {
        "id": "s-0Rs8gOxDqR"
      },
      "execution_count": null,
      "outputs": []
    }
  ]
}