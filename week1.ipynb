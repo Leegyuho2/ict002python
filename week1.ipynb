{
  "nbformat": 4,
  "nbformat_minor": 0,
  "metadata": {
    "colab": {
      "provenance": []
    },
    "kernelspec": {
      "name": "python3",
      "display_name": "Python 3"
    },
    "language_info": {
      "name": "python"
    }
  },
  "cells": [
    {
      "cell_type": "code",
      "execution_count": 1,
      "metadata": {
        "colab": {
          "base_uri": "https://localhost:8080/"
        },
        "id": "hpwSK-_moMGP",
        "outputId": "9f227451-8fd2-4d64-d8d0-ddd616a9059c"
      },
      "outputs": [
        {
          "output_type": "stream",
          "name": "stdout",
          "text": [
            "Hello world\n"
          ]
        }
      ],
      "source": [
        "print('Hello world')"
      ]
    },
    {
      "cell_type": "code",
      "source": [
        "print('10 + 10 =', 10+10 ,sep= '$')"
      ],
      "metadata": {
        "colab": {
          "base_uri": "https://localhost:8080/"
        },
        "id": "AeWJsDA5qyFP",
        "outputId": "4fe8ed8f-d629-4332-dfc0-d68d527bb7f5"
      },
      "execution_count": 8,
      "outputs": [
        {
          "output_type": "stream",
          "name": "stdout",
          "text": [
            "10 + 10 =$20\n"
          ]
        }
      ]
    },
    {
      "cell_type": "code",
      "source": [
        "print(1,2,3,4,5 ,sep='')"
      ],
      "metadata": {
        "colab": {
          "base_uri": "https://localhost:8080/"
        },
        "id": "PSoEpW6Cto-q",
        "outputId": "6d1448d7-52f0-4e93-9fc8-19b18848bd26"
      },
      "execution_count": 13,
      "outputs": [
        {
          "output_type": "stream",
          "name": "stdout",
          "text": [
            "12345\n"
          ]
        }
      ]
    },
    {
      "cell_type": "code",
      "source": [
        "print(\"ptrhon\" , \"program\" ,sep='')"
      ],
      "metadata": {
        "colab": {
          "base_uri": "https://localhost:8080/"
        },
        "id": "-pk-o1GIuuVS",
        "outputId": "840d11db-9da1-49c7-ff33-93bc16c07b57"
      },
      "execution_count": 17,
      "outputs": [
        {
          "output_type": "stream",
          "name": "stdout",
          "text": [
            "ptrhonprogram\n"
          ]
        }
      ]
    },
    {
      "cell_type": "code",
      "source": [
        "print(\"파이썬 \\n\" * 5  )"
      ],
      "metadata": {
        "colab": {
          "base_uri": "https://localhost:8080/"
        },
        "id": "7p1w61McwdbW",
        "outputId": "32c187f9-b9f7-4290-8a66-415dd89b0b6a"
      },
      "execution_count": 21,
      "outputs": [
        {
          "output_type": "stream",
          "name": "stdout",
          "text": [
            "파이썬 \n",
            "파이썬 \n",
            "파이썬 \n",
            "파이썬 \n",
            "파이썬 \n",
            "\n"
          ]
        }
      ]
    },
    {
      "cell_type": "code",
      "source": [
        "print(\"Python Program is Great Program!\")\n"
      ],
      "metadata": {
        "colab": {
          "base_uri": "https://localhost:8080/"
        },
        "id": "Br4gCEE1w8_L",
        "outputId": "923437c8-44a6-4cc2-efe3-9c4268a611ce"
      },
      "execution_count": 23,
      "outputs": [
        {
          "output_type": "stream",
          "name": "stdout",
          "text": [
            "Python Program is Great Program!\n"
          ]
        }
      ]
    },
    {
      "cell_type": "code",
      "source": [
        "print(\"50 + 50의 합= 100\" ,sep='')"
      ],
      "metadata": {
        "colab": {
          "base_uri": "https://localhost:8080/"
        },
        "id": "gp-y7ysmxiQX",
        "outputId": "8d1e67e8-1021-4a95-da1e-62d296a6669a"
      },
      "execution_count": 28,
      "outputs": [
        {
          "output_type": "stream",
          "name": "stdout",
          "text": [
            "50 + 50의 합= 100\n"
          ]
        }
      ]
    },
    {
      "cell_type": "markdown",
      "source": [],
      "metadata": {
        "id": "F7ppD0Xn1r8X"
      }
    },
    {
      "cell_type": "markdown",
      "source": [],
      "metadata": {
        "id": "hIF7BzXz2UQt"
      }
    },
    {
      "cell_type": "code",
      "source": [
        "name = \"홀길동\"\n",
        "age = \"20\"\n",
        "print(\"나의 이름은\" , name,\"이다\\n\" , \"나이는\"  ,age,\"세이다\")\n",
        "\n"
      ],
      "metadata": {
        "colab": {
          "base_uri": "https://localhost:8080/"
        },
        "id": "I2b1p3Mf0ezw",
        "outputId": "625b607b-85fe-4cc9-b57f-640fa7af1879"
      },
      "execution_count": 43,
      "outputs": [
        {
          "output_type": "stream",
          "name": "stdout",
          "text": [
            "나의 이름은 홀길동 이다\n",
            " 나이는 20 세이다\n"
          ]
        },
        {
          "output_type": "execute_result",
          "data": {
            "text/plain": [
              "1.0"
            ]
          },
          "metadata": {},
          "execution_count": 43
        }
      ]
    },
    {
      "cell_type": "code",
      "source": [
        "print('안녕하세요\\n 딘입니다.')\n",
        "print('안녕하세요\\t 딘입니다.')\n",
        "print('안녕하세요\\b 딘입니다.')\n",
        "print('안녕하세요\\\\ 딘입니다.')"
      ],
      "metadata": {
        "colab": {
          "base_uri": "https://localhost:8080/"
        },
        "id": "1FBsTXlj73rS",
        "outputId": "162cad1b-0c90-4362-ff80-c3af98c69fea"
      },
      "execution_count": 70,
      "outputs": [
        {
          "output_type": "stream",
          "name": "stdout",
          "text": [
            "안녕하세요\n",
            " 딘입니다.\n",
            "안녕하세요\t 딘입니다.\n",
            "안녕하세요\b 딘입니다.\n",
            "안녕하세요\\ 딘입니다.\n"
          ]
        }
      ]
    },
    {
      "cell_type": "code",
      "source": [
        "b = 20\n",
        "l = 20\n",
        "sum  = b * l\n",
        "print(\"직사각형의 넓이는=\",sum)"
      ],
      "metadata": {
        "colab": {
          "base_uri": "https://localhost:8080/"
        },
        "id": "hqPVM6nT8jJV",
        "outputId": "6b70630b-978c-4bb4-ef48-e613b221c375"
      },
      "execution_count": 72,
      "outputs": [
        {
          "output_type": "stream",
          "name": "stdout",
          "text": [
            "직사각형의 넓이는= 400\n"
          ]
        }
      ]
    },
    {
      "cell_type": "code",
      "source": [
        "국어 = 100\n",
        "영어 = 80\n",
        "수학 = 75\n",
        "총점 = 국어 + 영어 + 수학 \n",
        "평균 = 총점 /3\n",
        "print(\"국어:\",국어 )\n",
        "print(\"영어:\",영어 )\n",
        "print(\"수학:\",수학 )\n",
        "print('총점:', 총점)\n",
        "print(\"평균:{0:.2f}\".format(평균))\n"
      ],
      "metadata": {
        "colab": {
          "base_uri": "https://localhost:8080/"
        },
        "id": "evFssBRr2z-T",
        "outputId": "3956122b-809f-4c80-dfc4-cdddd8cdeb80"
      },
      "execution_count": 65,
      "outputs": [
        {
          "output_type": "stream",
          "name": "stdout",
          "text": [
            "국어:100\n",
            "영어: 80\n",
            "수학: 75\n",
            "총점: 255\n",
            "평균:85.00\n"
          ]
        }
      ]
    },
    {
      "cell_type": "code",
      "source": [
        "heiht = 173.32342"
      ],
      "metadata": {
        "id": "K32yVM_a5TNw"
      },
      "execution_count": 55,
      "outputs": []
    },
    {
      "cell_type": "code",
      "source": [],
      "metadata": {
        "id": "XgOPIw_75Rm3"
      },
      "execution_count": null,
      "outputs": []
    },
    {
      "cell_type": "code",
      "source": [],
      "metadata": {
        "id": "4e-IT__14Djl"
      },
      "execution_count": null,
      "outputs": []
    },
    {
      "cell_type": "code",
      "source": [],
      "metadata": {
        "id": "48nUsTe23HPZ"
      },
      "execution_count": null,
      "outputs": []
    }
  ]
}