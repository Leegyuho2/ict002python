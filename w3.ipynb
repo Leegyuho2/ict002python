{
  "nbformat": 4,
  "nbformat_minor": 0,
  "metadata": {
    "colab": {
      "provenance": [],
      "collapsed_sections": [],
      "authorship_tag": "ABX9TyODdgZWKiozob5/pQ0niHMu",
      "include_colab_link": true
    },
    "kernelspec": {
      "name": "python3",
      "display_name": "Python 3"
    },
    "language_info": {
      "name": "python"
    }
  },
  "cells": [
    {
      "cell_type": "markdown",
      "metadata": {
        "id": "view-in-github",
        "colab_type": "text"
      },
      "source": [
        "<a href=\"https://colab.research.google.com/github/Leegyuho2/ict002python/blob/main/w3.ipynb\" target=\"_parent\"><img src=\"https://colab.research.google.com/assets/colab-badge.svg\" alt=\"Open In Colab\"/></a>"
      ]
    },
    {
      "cell_type": "code",
      "execution_count": null,
      "metadata": {
        "colab": {
          "base_uri": "https://localhost:8080/"
        },
        "id": "v70AU2HViLCW",
        "outputId": "43090ce1-29bb-4f75-d6e7-0401fa2bff56"
      },
      "outputs": [
        {
          "output_type": "stream",
          "name": "stdout",
          "text": [
            "이름: 이규호\n",
            "국어점수: 90\n",
            "영어점수: 80\n",
            "수학점수: 75\n",
            "이규호군의 총점은245점,평균은81.67점,학점은 B학점입니다.\n"
          ]
        }
      ],
      "source": [
        "\n",
        "name = input(\"이름: \")\n",
        "korean = int(input(\"국어점수: \"))\n",
        "english = int(input(\"영어점수: \"))\n",
        "math = int(input(\"수학점수: \"))\n",
        "total = korean + english + math\n",
        "avg = total / 3\n",
        "if avg >=95:\n",
        "    grade ='A+'\n",
        "    print(f\"{name}군의 총점은{total}점,평균은{avg:,.2f}점,학점은 {grade}학점입니다.\")\n",
        "elif avg>=90:\n",
        "    grade ='A'\n",
        "    print(f\"{name}군의 총점은{total}점,평균은{avg:,2f}점,학점은 {grade}학점입니다.\")\n",
        "elif avg>=85:\n",
        "    grade ='B+'\n",
        "    print(f\"{name}군의 총점은{total}점,평균은{avg:,.2f}점,학점은 {grade}학점입니다.\")\n",
        "elif avg>=80:\n",
        "    grade ='B'\n",
        "    print(f\"{name}군의 총점은{total}점,평균은{avg:,.2f}점,학점은 {grade}학점입니다.\")\n",
        "elif avg>=75:\n",
        "    grade ='C+'\n",
        "    print(f\"{name}군의 총점은{total}점,평균은{avg:,.2f}점,학점은 {grade}학점입니다.\")\n",
        "elif avg>=70:\n",
        "    grade ='C'\n",
        "    print(f\"{name}군의 총점은{total}점,평균은{avg:,.2f}점,학점은 {grade}학점입니다.\")\n",
        "elif avg>=65:\n",
        "    grade ='D+'\n",
        "    print(f\"{name}군의 총점은{total}점,평균은{avg:,.2f}점,학점은 {grade}학점입니다.\")    \n",
        "elif avg>=60:\n",
        "    grade ='D'\n",
        "    print(f\"{name}군의 총점은{total}점,평균은{avg:,.2f}점,학점은 {grade}학점입니다.\")\n",
        "else:\n",
        "    grade ='F'\n",
        "    print(f\"{name}군의 총점은{total}점,평균은{avg:,.2f}점,학점은 {grade}학점입니다.\")  \n",
        "    \n"
      ]
    },
    {
      "cell_type": "code",
      "source": [],
      "metadata": {
        "id": "FtBymwF92XSJ"
      },
      "execution_count": null,
      "outputs": []
    },
    {
      "cell_type": "code",
      "source": [
        "a = int(input(\"어떤수\"))\n",
        "if a > 50:\n",
        "  if a < 100:\n",
        "    print(\"입력한 수(은,는)50보다는 크고 100보다는 작습니다\")\n",
        "  else:\n",
        "    print('입력한수는 100보다 큽니다') \n",
        "else:\n",
        "  print(\"입력한수는 50보다 큽니다\")     \n",
        "\n",
        "  "
      ],
      "metadata": {
        "colab": {
          "base_uri": "https://localhost:8080/"
        },
        "id": "kKAXFBxjyx4t",
        "outputId": "f0820bee-75df-437b-dca8-dddd9ac1b4db"
      },
      "execution_count": null,
      "outputs": [
        {
          "output_type": "stream",
          "name": "stdout",
          "text": [
            "어떤수85\n",
            "입력한 수은(는)50보다는 크고 100보다는 작습니다\n"
          ]
        }
      ]
    },
    {
      "cell_type": "code",
      "source": [
        "a = int(input(\"어떤수\"))\n",
        "if a > 999:\n",
        "  print(\"네 자리수 숫자입니다.\")\n",
        "elif a > 99:\n",
        "  print('세 자리수 숫자입니다.') \n",
        "elif a > 9:\n",
        "  print(\"두 자리수 숫자입니다.\")\n",
        "elif a < 9:\n",
        "  print('한 자리수 숫자입니다.')\n",
        "else:\n",
        "  print(\"다시입력하시오.\")\n"
      ],
      "metadata": {
        "colab": {
          "base_uri": "https://localhost:8080/"
        },
        "id": "lfKIO3F07Kbb",
        "outputId": "2bae17bd-fc30-4cb4-c58e-b7f9610b77f7"
      },
      "execution_count": null,
      "outputs": [
        {
          "output_type": "stream",
          "name": "stdout",
          "text": [
            "어떤수1\n",
            "한 자리수 숫자입니다.\n"
          ]
        }
      ]
    },
    {
      "cell_type": "code",
      "source": [
        "fruit=['딸기','포도','망고','복숭아','수박']\n",
        "if '딸기'in fruit:\n",
        "  print(\"맛있는 딸기가 있습니다.\")"
      ],
      "metadata": {
        "colab": {
          "base_uri": "https://localhost:8080/"
        },
        "id": "SJRZYq560XqT",
        "outputId": "2a8aaa81-4cd4-4a99-e00d-22a8a97ff3aa"
      },
      "execution_count": null,
      "outputs": [
        {
          "output_type": "stream",
          "name": "stdout",
          "text": [
            "맛있는 딸기가 있습니다.\n"
          ]
        }
      ]
    },
    {
      "cell_type": "code",
      "source": [
        "a = int(input(\"교수 교과목 코드: \"))\n",
        "b = ['1203','1250','1275','1290']\n",
        "c = [1203,1250,1275,1290]\n",
        "if a in b:\n",
        "  if a == '1203':\n",
        "# if a == 1203:\n",
        "    print(\"과목명: 파이썬 프로그램\")\n",
        "  elif a == '1250':\n",
        "    print(\"과목명: 컴퓨팅 사고\")\n",
        "  elif a == '1275':\n",
        "    print(\"과목명: 빅 데이터\")\n",
        "  elif a == '1290':\n",
        "    print(\"과목명: IoT\") \n",
        "  else: \n",
        "    print(\"해당 강좌 없음\")\n",
        "\n",
        "  \n",
        "\n",
        "\n"
      ],
      "metadata": {
        "colab": {
          "base_uri": "https://localhost:8080/"
        },
        "id": "WNoq2-lm-9GF",
        "outputId": "5809c7ba-d6a0-48b6-fc9c-58586d7d4780"
      },
      "execution_count": null,
      "outputs": [
        {
          "output_type": "stream",
          "name": "stdout",
          "text": [
            "교수 교과목 코드: 1290\n",
            "IoT\n"
          ]
        }
      ]
    },
    {
      "cell_type": "code",
      "source": [
        "a=float(input())\n",
        "if a<=50.80:\n",
        "    print(\"Flyweight\")\n",
        "elif a<=61.23:\n",
        "    print(\"Lightweight\")\n",
        "elif a<=72.57:\n",
        "    print(\"Middleweight\")\n",
        "elif a<=88.45:\n",
        "    print(\"Cruiserweight\")\n",
        "elif a>88.45:\n",
        "    print(\"Heavyweight\")\n"
      ],
      "metadata": {
        "colab": {
          "base_uri": "https://localhost:8080/"
        },
        "id": "7Z1b5waOFDqe",
        "outputId": "ddd27e82-c4d4-433b-c6b1-e5125fd5dcc0"
      },
      "execution_count": null,
      "outputs": [
        {
          "output_type": "stream",
          "name": "stdout",
          "text": [
            "87.3\n",
            "Cruiserweight\n"
          ]
        }
      ]
    },
    {
      "cell_type": "code",
      "source": [
        "a = int(input())\n",
        "if(a==1)or(a==3)or(a==7)or(a==8)or(a==10)or(a==12):\n",
        "  print(31)\n",
        "elif a==2:\n",
        "  print(28)\n",
        "else:\n",
        "  print(30)    "
      ],
      "metadata": {
        "colab": {
          "base_uri": "https://localhost:8080/"
        },
        "id": "MPsbDKr2Fa8k",
        "outputId": "56fdad60-4fd4-4c41-a02a-bc6e10e4135a"
      },
      "execution_count": null,
      "outputs": [
        {
          "output_type": "stream",
          "name": "stdout",
          "text": [
            "2\n",
            "28\n"
          ]
        }
      ]
    },
    {
      "cell_type": "code",
      "source": [
        "a = input(\"\")\n",
        "print (\"1 :\",a.count('1'))\n",
        "print (\"2 :\",a.count('2'))\n",
        "print (\"3 :\",a.count('3'))\n",
        "print (\"4 :\",a.count('4'))\n",
        "print (\"5 :\",a.count('5'))\n",
        "print (\"6 :\",a.count('6'))\n",
        "\n",
        "\n",
        "\n",
        " \n",
        "\n",
        "                \n",
        "  \n"
      ],
      "metadata": {
        "colab": {
          "base_uri": "https://localhost:8080/"
        },
        "id": "zZuR496_Hc4D",
        "outputId": "ec7bcc0f-df7a-443b-beed-ecd0107fc24f"
      },
      "execution_count": null,
      "outputs": [
        {
          "output_type": "stream",
          "name": "stdout",
          "text": [
            "5 6 3 4 5 5 2 2 4 6\n",
            "1 : 0\n",
            "2 : 2\n",
            "3 : 1\n",
            "4 : 2\n",
            "5 : 3\n",
            "6 : 2\n"
          ]
        }
      ]
    },
    {
      "cell_type": "code",
      "source": [],
      "metadata": {
        "id": "5Gk4hAEvg7lc"
      },
      "execution_count": null,
      "outputs": []
    },
    {
      "cell_type": "code",
      "source": [],
      "metadata": {
        "id": "hEV0uYa_hJiC"
      },
      "execution_count": null,
      "outputs": []
    },
    {
      "cell_type": "code",
      "source": [
        "type = ['주택용','공업용','산업용']\n",
        "type = input()\n",
        "usage = int(input(\"사용량(kwh?) \"))\n",
        "if type == '주택용':\n",
        "  print(f\"용도1 사용량:{usage:,.2f},전기요금:{usage * 88+910:,.2f}원\")\n",
        "  if type == '공업용':\n",
        "    print(f\"용도2 사용량:{usage:,.2f},전기요금:{usage * 182+1600:,.2f}원 \")\n",
        "    if type == '산업용':\n",
        "      print(f\"용도3 사용량:{usage:,.2f},전기요금:{usage * 275+7300:,.2f}원 \")\n",
        "\n",
        "\n"
      ],
      "metadata": {
        "id": "YaDETKqKhhXC",
        "colab": {
          "base_uri": "https://localhost:8080/"
        },
        "outputId": "7babd10e-569d-43f9-a174-440744f5a117"
      },
      "execution_count": 13,
      "outputs": [
        {
          "output_type": "stream",
          "name": "stdout",
          "text": [
            "주택용\n",
            "사용량(kwh?) 57\n",
            "용도1 사용량:57.00,전기요금:5,926.00원\n"
          ]
        }
      ]
    },
    {
      "cell_type": "code",
      "source": [],
      "metadata": {
        "id": "mkdDsyRxaxTi"
      },
      "execution_count": null,
      "outputs": []
    },
    {
      "cell_type": "code",
      "source": [
        "a = int(input(\"소프트웨어설계: \"))\n",
        "b = int(input(\"소프트웨어개발: \"))\n",
        "c = int(input(\"데이터베이스구축: \"))\n",
        "d = int(input(\"프로그램언어 활용: \"))\n",
        "e = int(input(\"정보시스템구축 관리: \"))\n",
        "avg = (a + b + c + d + e) / 5\n",
        "if avg >= 60:\n",
        "  if a > 40 and b > 40 and c > 40 and d > 40 and e > 40: \n",
        "    print(\"합격입니다\")\n",
        "else:\n",
        "  print(\"불합격입니다\")\n",
        "\n",
        "\n"
      ],
      "metadata": {
        "colab": {
          "base_uri": "https://localhost:8080/"
        },
        "id": "JMRQyRvdsicW",
        "outputId": "67346a6e-89e3-438f-a5e2-33af0b2c3991"
      },
      "execution_count": null,
      "outputs": [
        {
          "name": "stdout",
          "output_type": "stream",
          "text": [
            "소프트웨어설계: 9\n",
            "소프트웨어개발: 90\n",
            "데이터베이스구축: 90\n",
            "프로그램언어 활용: 90\n",
            "정보시스템구축 관리: 99\n"
          ]
        }
      ]
    },
    {
      "cell_type": "code",
      "source": [
        "a = int(input(\"어떤수?\"))\n",
        "if(a%2==1):\n",
        "  print(f\"입력한수{a}는 홀수이다.\")\n",
        "else:\n",
        "  print(f\"입력한수{a}는 짝수이다.\")"
      ],
      "metadata": {
        "colab": {
          "base_uri": "https://localhost:8080/"
        },
        "id": "Rm6FN4G1w8tp",
        "outputId": "c5b6716d-11c0-41c8-ce9c-3d1abbe392ad"
      },
      "execution_count": null,
      "outputs": [
        {
          "output_type": "stream",
          "name": "stdout",
          "text": [
            "어떤수?3\n",
            "입력한수3는 홀수이다.\n"
          ]
        }
      ]
    },
    {
      "cell_type": "code",
      "source": [
        "a = float(input(\"이번학기 학점:\"))\n",
        "if a >= 4.0:\n",
        "  print(\"장학금 신청 대상\")\n",
        "else:\n",
        "  print('장학금 학점 미달')"
      ],
      "metadata": {
        "colab": {
          "base_uri": "https://localhost:8080/"
        },
        "id": "4e4qCaAXvhdf",
        "outputId": "dc06276a-cbb8-40ff-f5c5-d43abc792647"
      },
      "execution_count": null,
      "outputs": [
        {
          "output_type": "stream",
          "name": "stdout",
          "text": [
            "이번학기 학점:3.2\n",
            "장학금 학점 미달\n"
          ]
        }
      ]
    },
    {
      "cell_type": "code",
      "source": [],
      "metadata": {
        "id": "hMQ9JqDnv_Pk"
      },
      "execution_count": null,
      "outputs": []
    }
  ]
}
