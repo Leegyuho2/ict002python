{
  "nbformat": 4,
  "nbformat_minor": 0,
  "metadata": {
    "colab": {
      "provenance": [],
      "collapsed_sections": []
    },
    "kernelspec": {
      "name": "python3",
      "display_name": "Python 3"
    },
    "language_info": {
      "name": "python"
    }
  },
  "cells": [
    {
      "cell_type": "code",
      "execution_count": 40,
      "metadata": {
        "colab": {
          "base_uri": "https://localhost:8080/",
          "height": 240
        },
        "id": "KiQoXz03wT81",
        "outputId": "85e3490e-356b-4901-a621-9716a2be34c3"
      },
      "outputs": [
        {
          "output_type": "error",
          "ename": "TypeError",
          "evalue": "ignored",
          "traceback": [
            "\u001b[0;31m---------------------------------------------------------------------------\u001b[0m",
            "\u001b[0;31mTypeError\u001b[0m                                 Traceback (most recent call last)",
            "\u001b[0;32m<ipython-input-40-f620efa33623>\u001b[0m in \u001b[0;36m<module>\u001b[0;34m\u001b[0m\n\u001b[0;32m----> 1\u001b[0;31m \u001b[0;32mfor\u001b[0m \u001b[0mi\u001b[0m \u001b[0;32min\u001b[0m \u001b[0;34m[\u001b[0m\u001b[0;36m5\u001b[0m\u001b[0;34m,\u001b[0m\u001b[0;36m4\u001b[0m\u001b[0;34m,\u001b[0m\u001b[0;36m3\u001b[0m\u001b[0;34m,\u001b[0m\u001b[0;36m2\u001b[0m\u001b[0;34m,\u001b[0m\u001b[0;36m1\u001b[0m\u001b[0;34m]\u001b[0m\u001b[0;34m.\u001b[0m\u001b[0mreverse\u001b[0m\u001b[0;34m(\u001b[0m\u001b[0;34m)\u001b[0m\u001b[0;34m:\u001b[0m\u001b[0;31m#[5,4,3,2,1]:\u001b[0m\u001b[0;34m\u001b[0m\u001b[0;34m\u001b[0m\u001b[0m\n\u001b[0m\u001b[1;32m      2\u001b[0m   \u001b[0mprint\u001b[0m\u001b[0;34m(\u001b[0m\u001b[0mi\u001b[0m\u001b[0;34m)\u001b[0m\u001b[0;34m\u001b[0m\u001b[0;34m\u001b[0m\u001b[0m\n\u001b[1;32m      3\u001b[0m \u001b[0;34m\u001b[0m\u001b[0m\n",
            "\u001b[0;31mTypeError\u001b[0m: 'NoneType' object is not iterable"
          ]
        }
      ],
      "source": [
        "for i in [5,4,3,2,1]:\n",
        "  print(i)\n",
        "  "
      ]
    },
    {
      "cell_type": "code",
      "source": [
        "[5,4,3,2,1].reverse()"
      ],
      "metadata": {
        "colab": {
          "base_uri": "https://localhost:8080/"
        },
        "id": "_ocshEKi5ShN",
        "outputId": "360d051b-d899-4f4a-e651-a706559387c5"
      },
      "execution_count": 37,
      "outputs": [
        {
          "output_type": "stream",
          "name": "stdout",
          "text": [
            "None\n"
          ]
        }
      ]
    },
    {
      "cell_type": "code",
      "source": [],
      "metadata": {
        "id": "4yN54Zo45Via"
      },
      "execution_count": null,
      "outputs": []
    },
    {
      "cell_type": "code",
      "source": [
        "\n",
        "for n in range(5):\n",
        "  if n % 2==0:\n",
        "    print(\"짝수입니다\")\n",
        "  else:\n",
        "    print(\"홀수입니다\")\n",
        "\n"
      ],
      "metadata": {
        "colab": {
          "base_uri": "https://localhost:8080/"
        },
        "id": "-s09jScPy4fv",
        "outputId": "065e5792-3476-4b33-9c14-9bc1ca864fc2"
      },
      "execution_count": 13,
      "outputs": [
        {
          "output_type": "stream",
          "name": "stdout",
          "text": [
            "짝수입니다\n",
            "홀수입니다\n",
            "짝수입니다\n",
            "홀수입니다\n",
            "짝수입니다\n"
          ]
        }
      ]
    },
    {
      "cell_type": "code",
      "source": [
        "i = 0\n",
        "sum = 0\n",
        "for i in range(1,11,1):\n",
        "  sum = sum+i\n",
        "print(\"1에서 10까지의 자연수의 합: %d\"%sum)"
      ],
      "metadata": {
        "colab": {
          "base_uri": "https://localhost:8080/",
          "height": 240
        },
        "id": "8jOAIQQ31DG-",
        "outputId": "ba88d01b-102b-42b3-f4b3-31ea9d422f45"
      },
      "execution_count": 16,
      "outputs": [
        {
          "output_type": "error",
          "ename": "TypeError",
          "evalue": "ignored",
          "traceback": [
            "\u001b[0;31m---------------------------------------------------------------------------\u001b[0m",
            "\u001b[0;31mTypeError\u001b[0m                                 Traceback (most recent call last)",
            "\u001b[0;32m<ipython-input-16-dcf91da86b92>\u001b[0m in \u001b[0;36m<module>\u001b[0;34m\u001b[0m\n\u001b[1;32m      3\u001b[0m \u001b[0;32mfor\u001b[0m \u001b[0mi\u001b[0m \u001b[0;32min\u001b[0m \u001b[0mrange\u001b[0m\u001b[0;34m(\u001b[0m\u001b[0;36m1\u001b[0m\u001b[0;34m,\u001b[0m\u001b[0;36m11\u001b[0m\u001b[0;34m,\u001b[0m\u001b[0;36m1\u001b[0m\u001b[0;34m)\u001b[0m\u001b[0;34m:\u001b[0m\u001b[0;34m\u001b[0m\u001b[0;34m\u001b[0m\u001b[0m\n\u001b[1;32m      4\u001b[0m   \u001b[0msum\u001b[0m \u001b[0;34m=\u001b[0m \u001b[0msum\u001b[0m\u001b[0;34m+\u001b[0m\u001b[0mi\u001b[0m\u001b[0;34m\u001b[0m\u001b[0;34m\u001b[0m\u001b[0m\n\u001b[0;32m----> 5\u001b[0;31m \u001b[0mprint\u001b[0m\u001b[0;34m(\u001b[0m\u001b[0;34m\"1에서 10까지의 자연수의 합: \"\u001b[0m\u001b[0;34m%\u001b[0m\u001b[0msum\u001b[0m\u001b[0;34m)\u001b[0m\u001b[0;34m\u001b[0m\u001b[0;34m\u001b[0m\u001b[0m\n\u001b[0m",
            "\u001b[0;31mTypeError\u001b[0m: not all arguments converted during string formatting"
          ]
        }
      ]
    },
    {
      "cell_type": "code",
      "source": [
        "odd_cnt =0\n",
        "for i in range(5):\n",
        "    num =int(input('어떤수:'))\n",
        "    if num % 2 == 0:\n",
        "      print(f'{num}는 짝수입니다')\n",
        "    else:\n",
        "      print(f'{num}는 홀수입니다')\n",
        "      odd_cnt += 1\n",
        "\n",
        "print(f'홀수의 개수:{odd_cnt}')"
      ],
      "metadata": {
        "colab": {
          "base_uri": "https://localhost:8080/",
          "height": 133
        },
        "id": "9OnWJUuE1Hch",
        "outputId": "8d824504-5a64-4a3d-e7bd-dfc056c23f13"
      },
      "execution_count": 33,
      "outputs": [
        {
          "output_type": "error",
          "ename": "IndentationError",
          "evalue": "ignored",
          "traceback": [
            "\u001b[0;36m  File \u001b[0;32m\"<ipython-input-33-7e0a261c6a6b>\"\u001b[0;36m, line \u001b[0;32m7\u001b[0m\n\u001b[0;31m    if num % 2 == 0:\u001b[0m\n\u001b[0m    ^\u001b[0m\n\u001b[0;31mIndentationError\u001b[0m\u001b[0;31m:\u001b[0m unexpected indent\n"
          ]
        }
      ]
    },
    {
      "cell_type": "code",
      "source": [
        "zoo = [\"rabbit\", \"goat\", \"tiger\", \"lione\",\"giraffe\",\"zebra\"]\n",
        "zoo.reverse()\n",
        "for i in zoo:\n",
        "  print(i,end=\" \")"
      ],
      "metadata": {
        "colab": {
          "base_uri": "https://localhost:8080/"
        },
        "id": "cUfkR_GR5ysm",
        "outputId": "c71e1043-db99-40d4-8bc3-68a22fa03cc0"
      },
      "execution_count": 44,
      "outputs": [
        {
          "output_type": "stream",
          "name": "stdout",
          "text": [
            "zebra giraffe lione tiger goat rabbit "
          ]
        }
      ]
    },
    {
      "cell_type": "code",
      "source": [
        "zoo = [\"rabbit\", \"goat\", \"tiger\", \"lion\",\"giraffe\",\"zebra\"]\n",
        "zoo.reverse()\n",
        "for i in zoo:\n",
        "  print(i,\":\", len(i))\n",
        "  \n",
        "  \n",
        "    \n"
      ],
      "metadata": {
        "colab": {
          "base_uri": "https://localhost:8080/"
        },
        "id": "XS0to9Qv7RYl",
        "outputId": "3ed579a5-4f31-4d3a-b7eb-915cf5635983"
      },
      "execution_count": 61,
      "outputs": [
        {
          "output_type": "stream",
          "name": "stdout",
          "text": [
            "zebra : 5\n",
            "giraffe : 7\n",
            "lion : 4\n",
            "tiger : 5\n",
            "goat : 4\n",
            "rabbit : 6\n"
          ]
        }
      ]
    },
    {
      "cell_type": "code",
      "source": [
        "zoo = [\"rabbit\", \"goat\", \"tiger\", \"lion\",\"giraffe\",\"zebra\"]\n",
        "\n",
        "for i in range(2):\n",
        "  a = input(\"\")\n",
        "  if a not in zoo:\n",
        "      print(f\"{a}(은)는 동물원에 없습니다.\")\n",
        "  else:\n",
        "    print(f\"{a}(은)는 동물원에 있습니다.\")"
      ],
      "metadata": {
        "colab": {
          "base_uri": "https://localhost:8080/"
        },
        "id": "A2yjwlAx1yEm",
        "outputId": "f4e6cd6d-38f4-4ea2-bed5-2cfa0107acfa"
      },
      "execution_count": 75,
      "outputs": [
        {
          "output_type": "stream",
          "name": "stdout",
          "text": [
            "deer\n",
            "deer(은)는 동물원에 없습니다.\n",
            "lion\n",
            "lion(은)는 동물원에 있습니다.\n"
          ]
        }
      ]
    },
    {
      "cell_type": "code",
      "source": [
        "i = 0\n",
        "while i < 5:\n",
        "  i = i +1\n",
        "  print(\"Python Program %d번 출력.\"% i)\n",
        "  \n"
      ],
      "metadata": {
        "colab": {
          "base_uri": "https://localhost:8080/"
        },
        "id": "Br7O_3kqC3EZ",
        "outputId": "04cfd62b-0743-4875-e026-b9842a7ceeee"
      },
      "execution_count": 86,
      "outputs": [
        {
          "output_type": "stream",
          "name": "stdout",
          "text": [
            "Python Program 1번 출력.\n",
            "Python Program 2번 출력.\n",
            "Python Program 3번 출력.\n",
            "Python Program 4번 출력.\n",
            "Python Program 5번 출력.\n"
          ]
        }
      ]
    },
    {
      "cell_type": "code",
      "source": [
        "num=int(input(\"원하는 단수를 입력하세요:\")) \n",
        "n=1\n",
        "while n<=9 : \n",
        "    print(num,\"*\",n,\"=\",num*n) \n",
        "    n+=1\n",
        "\n"
      ],
      "metadata": {
        "colab": {
          "base_uri": "https://localhost:8080/"
        },
        "id": "KG8eCKuZGn0I",
        "outputId": "0c298bc2-2e5c-450e-9515-58df98566db2"
      },
      "execution_count": 90,
      "outputs": [
        {
          "output_type": "stream",
          "name": "stdout",
          "text": [
            "원하는 단수를 입력하세요:5\n",
            "5 * 1 = 5\n",
            "5 * 2 = 10\n",
            "5 * 3 = 15\n",
            "5 * 4 = 20\n",
            "5 * 5 = 25\n",
            "5 * 6 = 30\n",
            "5 * 7 = 35\n",
            "5 * 8 = 40\n",
            "5 * 9 = 45\n"
          ]
        }
      ]
    },
    {
      "cell_type": "code",
      "source": [],
      "metadata": {
        "id": "BcyubVEdJYCn"
      },
      "execution_count": null,
      "outputs": []
    },
    {
      "cell_type": "code",
      "source": [
        "for i in range(1,6):\n",
        "  for j in range(1,i+1):\n",
        "    print(j,end=\"\")\n",
        "  print()"
      ],
      "metadata": {
        "colab": {
          "base_uri": "https://localhost:8080/"
        },
        "id": "HDdQwq0JJgrd",
        "outputId": "a8887575-3eb5-456e-c176-e4021fb2a690"
      },
      "execution_count": 102,
      "outputs": [
        {
          "output_type": "stream",
          "name": "stdout",
          "text": [
            "1\n",
            "12\n",
            "123\n",
            "1234\n",
            "12345\n"
          ]
        }
      ]
    },
    {
      "cell_type": "code",
      "source": [
        "animal = [\"dog\",\"duck\",\"pony\",\"donkey\",\"giraffe,\",\"elepahnt\", \"cat\"]\n",
        "for i in range(len(animal)):\n",
        "  if len(animal[i]) < 5:\n",
        "    print(animal[i])"
      ],
      "metadata": {
        "colab": {
          "base_uri": "https://localhost:8080/"
        },
        "id": "cb7MAXj3bgX4",
        "outputId": "5f3c78b9-d576-411e-e18b-e5e522909839"
      },
      "execution_count": 5,
      "outputs": [
        {
          "output_type": "stream",
          "name": "stdout",
          "text": [
            "dog\n",
            "duck\n",
            "pony\n",
            "cat\n"
          ]
        }
      ]
    },
    {
      "cell_type": "code",
      "source": [
        "for i in range(1,6):\n",
        "  print(str(i)* i)"
      ],
      "metadata": {
        "colab": {
          "base_uri": "https://localhost:8080/"
        },
        "id": "lAduRnNjPhzI",
        "outputId": "6ceab955-11af-4366-a433-03daa61669c1"
      },
      "execution_count": 99,
      "outputs": [
        {
          "output_type": "stream",
          "name": "stdout",
          "text": [
            "1\n",
            "22\n",
            "333\n",
            "4444\n",
            "55555\n"
          ]
        }
      ]
    }
  ]
}